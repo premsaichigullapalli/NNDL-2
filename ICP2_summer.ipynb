{
 "cells": [
  {
   "cell_type": "code",
   "execution_count": 2,
   "metadata": {},
   "outputs": [
    {
     "name": "stdout",
     "output_type": "stream",
     "text": [
      "Full name: Prem Sai\n",
      "Every other char in full name: Pe a\n"
     ]
    }
   ],
   "source": [
    "def string_alternative(s):\n",
    "    return s[::2]\n",
    "\n",
    "def main():\n",
    "    first_name = input(\"Enter your first name: \")\n",
    "    last_name = input(\"Enter your last name: \")\n",
    "\n",
    "    full_name = first_name + \" \" + last_name\n",
    "    alternative_chars = string_alternative(full_name)\n",
    "\n",
    "    print(\"Full name:\", full_name)\n",
    "    print(\"Every other char in full name:\", alternative_chars)\n",
    "\n",
    "if __name__ == \"__main__\":\n",
    "    main()\n"
   ]
  },
  {
   "cell_type": "code",
   "execution_count": 3,
   "metadata": {},
   "outputs": [
    {
     "name": "stdout",
     "output_type": "stream",
     "text": [
      "Python Course\n",
      "Word_Count:\n",
      "Python: 1\n",
      "Course: 1\n",
      "\n",
      "Deep Learning Course\n",
      "Word_Count:\n",
      "Deep: 1\n",
      "Learning: 1\n",
      "Course: 1\n",
      "\n",
      "Results have been written to C:\\Users\\prems\\Downloads\\output.txt\n"
     ]
    }
   ],
   "source": [
    "def count_words(line):\n",
    "    words = line.split()\n",
    "    word_count = {}\n",
    "    \n",
    "    for word in words:\n",
    "        word = word.strip()\n",
    "        if word:\n",
    "            if word in word_count:\n",
    "                word_count[word] += 1\n",
    "            else:\n",
    "                word_count[word] = 1\n",
    "    \n",
    "    return word_count\n",
    "\n",
    "def main():\n",
    "    input_file_path = r\"C:\\Users\\prems\\Downloads\\input.txt\"\n",
    "    output_file_path = r\"C:\\Users\\prems\\Downloads\\output.txt\"\n",
    "    \n",
    "    with open(input_file_path, \"r\") as input_file:\n",
    "        lines = input_file.readlines()\n",
    "\n",
    "    result = {}\n",
    "\n",
    "    with open(output_file_path, \"w\") as output_file:\n",
    "        for line in lines:\n",
    "            line = line.strip()\n",
    "            output_file.write(line + \"\\nWord_Count:\\n\")\n",
    "            word_count = count_words(line)\n",
    "            result[line] = word_count\n",
    "\n",
    "            for word, count in word_count.items():\n",
    "                output_file.write(f\"{word}: {count}\\n\")\n",
    "\n",
    "            output_file.write(\"\\n\")\n",
    "            \n",
    "            print(line)\n",
    "            print(\"Word_Count:\")\n",
    "            for word, count in word_count.items():\n",
    "                print(f\"{word}: {count}\")\n",
    "            print()\n",
    "\n",
    "    print(\"Results have been written to\", output_file_path)\n",
    "\n",
    "if __name__ == \"__main__\":\n",
    "    main()\n"
   ]
  },
  {
   "cell_type": "code",
   "execution_count": 4,
   "metadata": {},
   "outputs": [
    {
     "name": "stdout",
     "output_type": "stream",
     "text": [
      "Heights in inches: [150.0, 155.0, 145.0, 148.0]\n",
      "Heights in centimeters (Nested Loop): [68.05807622504537, 70.32667876588022, 65.78947368421052, 67.15063520871144]\n",
      "Heights in centimeters (List Comprehension): [68.05807622504537, 70.32667876588022, 65.78947368421052, 67.15063520871144]\n"
     ]
    }
   ],
   "source": [
    "def inches_to_cm(inches):\n",
    "    return inches /2.204\n",
    "\n",
    "def main():\n",
    "    num_customers = int(input(\"Enter the number of customers: \"))\n",
    "    heights_inches = []\n",
    "\n",
    "    for i in range(num_customers):\n",
    "        height = float(input(f\"Enter the height of customer {i + 1} in inches: \"))\n",
    "        heights_inches.append(height)\n",
    "\n",
    "    # Using Nested Interactive Loop\n",
    "    heights_cm_nested = []\n",
    "    for height in heights_inches:\n",
    "        height_cm = inches_to_cm(height)\n",
    "        heights_cm_nested.append(height_cm)\n",
    "\n",
    "    # Using List Comprehensions\n",
    "    heights_cm_comprehension = [inches_to_cm(height) for height in heights_inches]\n",
    "\n",
    "    print(\"Heights in inches:\", heights_inches)\n",
    "    print(\"Heights in centimeters (Nested Loop):\", heights_cm_nested)\n",
    "    print(\"Heights in centimeters (List Comprehension):\", heights_cm_comprehension)\n",
    "\n",
    "if __name__ == \"__main__\":\n",
    "    main()\n"
   ]
  }
 ],
 "metadata": {
  "kernelspec": {
   "display_name": "Python 3",
   "language": "python",
   "name": "python3"
  },
  "language_info": {
   "codemirror_mode": {
    "name": "ipython",
    "version": 3
   },
   "file_extension": ".py",
   "mimetype": "text/x-python",
   "name": "python",
   "nbconvert_exporter": "python",
   "pygments_lexer": "ipython3",
   "version": "3.12.4"
  }
 },
 "nbformat": 4,
 "nbformat_minor": 2
}
